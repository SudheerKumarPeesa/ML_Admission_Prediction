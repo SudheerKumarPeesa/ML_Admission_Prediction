{
 "cells": [
  {
   "cell_type": "code",
   "execution_count": 106,
   "id": "f2ba6970",
   "metadata": {},
   "outputs": [],
   "source": [
    "import pandas as pd\n",
    "import numpy as np\n",
    "import matplotlib.pyplot as plt\n",
    "import seaborn as sns"
   ]
  },
  {
   "cell_type": "code",
   "execution_count": 107,
   "id": "d0c6336e",
   "metadata": {},
   "outputs": [
    {
     "data": {
      "text/html": [
       "<div>\n",
       "<style scoped>\n",
       "    .dataframe tbody tr th:only-of-type {\n",
       "        vertical-align: middle;\n",
       "    }\n",
       "\n",
       "    .dataframe tbody tr th {\n",
       "        vertical-align: top;\n",
       "    }\n",
       "\n",
       "    .dataframe thead th {\n",
       "        text-align: right;\n",
       "    }\n",
       "</style>\n",
       "<table border=\"1\" class=\"dataframe\">\n",
       "  <thead>\n",
       "    <tr style=\"text-align: right;\">\n",
       "      <th></th>\n",
       "      <th>Unnamed: 0</th>\n",
       "      <th>Serial No.</th>\n",
       "      <th>GRE Score</th>\n",
       "      <th>TOEFL Score</th>\n",
       "      <th>University Rating</th>\n",
       "      <th>SOP</th>\n",
       "      <th>LOR</th>\n",
       "      <th>CGPA</th>\n",
       "      <th>Research</th>\n",
       "      <th>Chance of Admit</th>\n",
       "    </tr>\n",
       "  </thead>\n",
       "  <tbody>\n",
       "    <tr>\n",
       "      <th>0</th>\n",
       "      <td>0</td>\n",
       "      <td>1</td>\n",
       "      <td>337</td>\n",
       "      <td>118</td>\n",
       "      <td>4</td>\n",
       "      <td>4.5</td>\n",
       "      <td>4.5</td>\n",
       "      <td>9.65</td>\n",
       "      <td>1</td>\n",
       "      <td>0.92</td>\n",
       "    </tr>\n",
       "    <tr>\n",
       "      <th>1</th>\n",
       "      <td>1</td>\n",
       "      <td>2</td>\n",
       "      <td>324</td>\n",
       "      <td>107</td>\n",
       "      <td>4</td>\n",
       "      <td>4.0</td>\n",
       "      <td>4.5</td>\n",
       "      <td>8.87</td>\n",
       "      <td>1</td>\n",
       "      <td>0.76</td>\n",
       "    </tr>\n",
       "    <tr>\n",
       "      <th>2</th>\n",
       "      <td>2</td>\n",
       "      <td>3</td>\n",
       "      <td>316</td>\n",
       "      <td>104</td>\n",
       "      <td>3</td>\n",
       "      <td>3.0</td>\n",
       "      <td>3.5</td>\n",
       "      <td>8.00</td>\n",
       "      <td>1</td>\n",
       "      <td>0.72</td>\n",
       "    </tr>\n",
       "    <tr>\n",
       "      <th>3</th>\n",
       "      <td>3</td>\n",
       "      <td>4</td>\n",
       "      <td>322</td>\n",
       "      <td>110</td>\n",
       "      <td>3</td>\n",
       "      <td>3.5</td>\n",
       "      <td>2.5</td>\n",
       "      <td>8.67</td>\n",
       "      <td>1</td>\n",
       "      <td>0.80</td>\n",
       "    </tr>\n",
       "    <tr>\n",
       "      <th>4</th>\n",
       "      <td>4</td>\n",
       "      <td>5</td>\n",
       "      <td>314</td>\n",
       "      <td>103</td>\n",
       "      <td>2</td>\n",
       "      <td>2.0</td>\n",
       "      <td>3.0</td>\n",
       "      <td>8.21</td>\n",
       "      <td>0</td>\n",
       "      <td>0.65</td>\n",
       "    </tr>\n",
       "    <tr>\n",
       "      <th>...</th>\n",
       "      <td>...</td>\n",
       "      <td>...</td>\n",
       "      <td>...</td>\n",
       "      <td>...</td>\n",
       "      <td>...</td>\n",
       "      <td>...</td>\n",
       "      <td>...</td>\n",
       "      <td>...</td>\n",
       "      <td>...</td>\n",
       "      <td>...</td>\n",
       "    </tr>\n",
       "    <tr>\n",
       "      <th>495</th>\n",
       "      <td>495</td>\n",
       "      <td>496</td>\n",
       "      <td>332</td>\n",
       "      <td>108</td>\n",
       "      <td>5</td>\n",
       "      <td>4.5</td>\n",
       "      <td>4.0</td>\n",
       "      <td>9.02</td>\n",
       "      <td>1</td>\n",
       "      <td>0.87</td>\n",
       "    </tr>\n",
       "    <tr>\n",
       "      <th>496</th>\n",
       "      <td>496</td>\n",
       "      <td>497</td>\n",
       "      <td>337</td>\n",
       "      <td>117</td>\n",
       "      <td>5</td>\n",
       "      <td>5.0</td>\n",
       "      <td>5.0</td>\n",
       "      <td>9.87</td>\n",
       "      <td>1</td>\n",
       "      <td>0.96</td>\n",
       "    </tr>\n",
       "    <tr>\n",
       "      <th>497</th>\n",
       "      <td>497</td>\n",
       "      <td>498</td>\n",
       "      <td>330</td>\n",
       "      <td>120</td>\n",
       "      <td>5</td>\n",
       "      <td>4.5</td>\n",
       "      <td>5.0</td>\n",
       "      <td>9.56</td>\n",
       "      <td>1</td>\n",
       "      <td>0.93</td>\n",
       "    </tr>\n",
       "    <tr>\n",
       "      <th>498</th>\n",
       "      <td>498</td>\n",
       "      <td>499</td>\n",
       "      <td>312</td>\n",
       "      <td>103</td>\n",
       "      <td>4</td>\n",
       "      <td>4.0</td>\n",
       "      <td>5.0</td>\n",
       "      <td>8.43</td>\n",
       "      <td>0</td>\n",
       "      <td>0.73</td>\n",
       "    </tr>\n",
       "    <tr>\n",
       "      <th>499</th>\n",
       "      <td>499</td>\n",
       "      <td>500</td>\n",
       "      <td>327</td>\n",
       "      <td>113</td>\n",
       "      <td>4</td>\n",
       "      <td>4.5</td>\n",
       "      <td>4.5</td>\n",
       "      <td>9.04</td>\n",
       "      <td>0</td>\n",
       "      <td>0.84</td>\n",
       "    </tr>\n",
       "  </tbody>\n",
       "</table>\n",
       "<p>500 rows × 10 columns</p>\n",
       "</div>"
      ],
      "text/plain": [
       "     Unnamed: 0  Serial No.  GRE Score  TOEFL Score  University Rating  SOP  \\\n",
       "0             0           1        337          118                  4  4.5   \n",
       "1             1           2        324          107                  4  4.0   \n",
       "2             2           3        316          104                  3  3.0   \n",
       "3             3           4        322          110                  3  3.5   \n",
       "4             4           5        314          103                  2  2.0   \n",
       "..          ...         ...        ...          ...                ...  ...   \n",
       "495         495         496        332          108                  5  4.5   \n",
       "496         496         497        337          117                  5  5.0   \n",
       "497         497         498        330          120                  5  4.5   \n",
       "498         498         499        312          103                  4  4.0   \n",
       "499         499         500        327          113                  4  4.5   \n",
       "\n",
       "     LOR   CGPA  Research  Chance of Admit   \n",
       "0     4.5  9.65         1              0.92  \n",
       "1     4.5  8.87         1              0.76  \n",
       "2     3.5  8.00         1              0.72  \n",
       "3     2.5  8.67         1              0.80  \n",
       "4     3.0  8.21         0              0.65  \n",
       "..    ...   ...       ...               ...  \n",
       "495   4.0  9.02         1              0.87  \n",
       "496   5.0  9.87         1              0.96  \n",
       "497   5.0  9.56         1              0.93  \n",
       "498   5.0  8.43         0              0.73  \n",
       "499   4.5  9.04         0              0.84  \n",
       "\n",
       "[500 rows x 10 columns]"
      ]
     },
     "execution_count": 107,
     "metadata": {},
     "output_type": "execute_result"
    }
   ],
   "source": [
    "df=pd.read_excel(r'C:\\Users\\Sudheerkumar Peesa\\Machine Learning Projects\\Admission_Predict Data\\cleaned_data_Admission.xlsx')\n",
    "df"
   ]
  },
  {
   "cell_type": "markdown",
   "id": "cd360ce6",
   "metadata": {},
   "source": [
    "# Data Wrangling\n",
    "\n",
    "for this data set,no encoding required"
   ]
  },
  {
   "cell_type": "code",
   "execution_count": 108,
   "id": "39d5b81c",
   "metadata": {},
   "outputs": [],
   "source": [
    "x=df[['GRE Score', 'TOEFL Score', 'University Rating', 'SOP',\n",
    "       'LOR ', 'CGPA', 'Research']]\n",
    "y=df['Chance of Admit ']"
   ]
  },
  {
   "cell_type": "markdown",
   "id": "5c5465af",
   "metadata": {},
   "source": [
    "# Train-Test Split"
   ]
  },
  {
   "cell_type": "code",
   "execution_count": 109,
   "id": "0f6a3777",
   "metadata": {},
   "outputs": [],
   "source": [
    "from  sklearn.model_selection import train_test_split\n",
    "x_train,x_test,y_train,y_test=train_test_split(x,y,train_size=0.2,random_state=25)"
   ]
  },
  {
   "cell_type": "markdown",
   "id": "4c1d4928",
   "metadata": {},
   "source": [
    "# Step-4:Modelling"
   ]
  },
  {
   "cell_type": "code",
   "execution_count": 110,
   "id": "3cb4c186",
   "metadata": {},
   "outputs": [
    {
     "data": {
      "text/html": [
       "<div>\n",
       "<style scoped>\n",
       "    .dataframe tbody tr th:only-of-type {\n",
       "        vertical-align: middle;\n",
       "    }\n",
       "\n",
       "    .dataframe tbody tr th {\n",
       "        vertical-align: top;\n",
       "    }\n",
       "\n",
       "    .dataframe thead th {\n",
       "        text-align: right;\n",
       "    }\n",
       "</style>\n",
       "<table border=\"1\" class=\"dataframe\">\n",
       "  <thead>\n",
       "    <tr style=\"text-align: right;\">\n",
       "      <th></th>\n",
       "      <th>GRE Score</th>\n",
       "      <th>TOEFL Score</th>\n",
       "      <th>University Rating</th>\n",
       "      <th>SOP</th>\n",
       "      <th>LOR</th>\n",
       "      <th>CGPA</th>\n",
       "      <th>Research</th>\n",
       "    </tr>\n",
       "  </thead>\n",
       "  <tbody>\n",
       "    <tr>\n",
       "      <th>461</th>\n",
       "      <td>301</td>\n",
       "      <td>102</td>\n",
       "      <td>3</td>\n",
       "      <td>2.5</td>\n",
       "      <td>2.0</td>\n",
       "      <td>8.13</td>\n",
       "      <td>1</td>\n",
       "    </tr>\n",
       "    <tr>\n",
       "      <th>79</th>\n",
       "      <td>294</td>\n",
       "      <td>93</td>\n",
       "      <td>1</td>\n",
       "      <td>1.5</td>\n",
       "      <td>2.0</td>\n",
       "      <td>7.36</td>\n",
       "      <td>0</td>\n",
       "    </tr>\n",
       "    <tr>\n",
       "      <th>187</th>\n",
       "      <td>335</td>\n",
       "      <td>118</td>\n",
       "      <td>5</td>\n",
       "      <td>4.5</td>\n",
       "      <td>3.5</td>\n",
       "      <td>9.44</td>\n",
       "      <td>1</td>\n",
       "    </tr>\n",
       "    <tr>\n",
       "      <th>265</th>\n",
       "      <td>313</td>\n",
       "      <td>102</td>\n",
       "      <td>3</td>\n",
       "      <td>2.5</td>\n",
       "      <td>2.5</td>\n",
       "      <td>8.68</td>\n",
       "      <td>0</td>\n",
       "    </tr>\n",
       "    <tr>\n",
       "      <th>251</th>\n",
       "      <td>316</td>\n",
       "      <td>99</td>\n",
       "      <td>2</td>\n",
       "      <td>2.5</td>\n",
       "      <td>3.0</td>\n",
       "      <td>9.00</td>\n",
       "      <td>0</td>\n",
       "    </tr>\n",
       "    <tr>\n",
       "      <th>...</th>\n",
       "      <td>...</td>\n",
       "      <td>...</td>\n",
       "      <td>...</td>\n",
       "      <td>...</td>\n",
       "      <td>...</td>\n",
       "      <td>...</td>\n",
       "      <td>...</td>\n",
       "    </tr>\n",
       "    <tr>\n",
       "      <th>317</th>\n",
       "      <td>300</td>\n",
       "      <td>99</td>\n",
       "      <td>1</td>\n",
       "      <td>1.0</td>\n",
       "      <td>2.5</td>\n",
       "      <td>8.01</td>\n",
       "      <td>0</td>\n",
       "    </tr>\n",
       "    <tr>\n",
       "      <th>143</th>\n",
       "      <td>340</td>\n",
       "      <td>120</td>\n",
       "      <td>4</td>\n",
       "      <td>4.5</td>\n",
       "      <td>4.0</td>\n",
       "      <td>9.92</td>\n",
       "      <td>1</td>\n",
       "    </tr>\n",
       "    <tr>\n",
       "      <th>474</th>\n",
       "      <td>308</td>\n",
       "      <td>105</td>\n",
       "      <td>4</td>\n",
       "      <td>3.0</td>\n",
       "      <td>2.5</td>\n",
       "      <td>7.95</td>\n",
       "      <td>1</td>\n",
       "    </tr>\n",
       "    <tr>\n",
       "      <th>318</th>\n",
       "      <td>324</td>\n",
       "      <td>111</td>\n",
       "      <td>3</td>\n",
       "      <td>2.5</td>\n",
       "      <td>2.0</td>\n",
       "      <td>8.80</td>\n",
       "      <td>1</td>\n",
       "    </tr>\n",
       "    <tr>\n",
       "      <th>132</th>\n",
       "      <td>309</td>\n",
       "      <td>105</td>\n",
       "      <td>5</td>\n",
       "      <td>3.5</td>\n",
       "      <td>3.5</td>\n",
       "      <td>8.56</td>\n",
       "      <td>0</td>\n",
       "    </tr>\n",
       "  </tbody>\n",
       "</table>\n",
       "<p>100 rows × 7 columns</p>\n",
       "</div>"
      ],
      "text/plain": [
       "     GRE Score  TOEFL Score  University Rating  SOP  LOR   CGPA  Research\n",
       "461        301          102                  3  2.5   2.0  8.13         1\n",
       "79         294           93                  1  1.5   2.0  7.36         0\n",
       "187        335          118                  5  4.5   3.5  9.44         1\n",
       "265        313          102                  3  2.5   2.5  8.68         0\n",
       "251        316           99                  2  2.5   3.0  9.00         0\n",
       "..         ...          ...                ...  ...   ...   ...       ...\n",
       "317        300           99                  1  1.0   2.5  8.01         0\n",
       "143        340          120                  4  4.5   4.0  9.92         1\n",
       "474        308          105                  4  3.0   2.5  7.95         1\n",
       "318        324          111                  3  2.5   2.0  8.80         1\n",
       "132        309          105                  5  3.5   3.5  8.56         0\n",
       "\n",
       "[100 rows x 7 columns]"
      ]
     },
     "execution_count": 110,
     "metadata": {},
     "output_type": "execute_result"
    }
   ],
   "source": [
    "x_train"
   ]
  },
  {
   "cell_type": "code",
   "execution_count": 111,
   "id": "f9f4dd2a",
   "metadata": {},
   "outputs": [
    {
     "name": "stdout",
     "output_type": "stream",
     "text": [
      "coefficient [ 0.00027394  0.0043784   0.02893561 -0.01544257  0.02125989  0.11072558\n",
      "  0.0319595 ]\n",
      "intercept -0.912528594283898\n"
     ]
    }
   ],
   "source": [
    "from sklearn.linear_model import LinearRegression\n",
    "\n",
    "model=LinearRegression()\n",
    "model.fit(x_train,y_train)\n",
    "print(\"coefficient\",model.coef_)\n",
    "print(\"intercept\",model.intercept_)"
   ]
  },
  {
   "cell_type": "code",
   "execution_count": 112,
   "id": "321964df",
   "metadata": {},
   "outputs": [],
   "source": [
    "#prediction\n",
    "test_predictions=model.predict(x_train)"
   ]
  },
  {
   "cell_type": "markdown",
   "id": "212cb440",
   "metadata": {},
   "source": [
    "# Step-5:Evaluation Metrics"
   ]
  },
  {
   "cell_type": "code",
   "execution_count": 113,
   "id": "7701b40c",
   "metadata": {},
   "outputs": [
    {
     "name": "stdout",
     "output_type": "stream",
     "text": [
      "Test R2 0.7949298702406804\n"
     ]
    }
   ],
   "source": [
    "print(\"Test R2\",model.score(x_test,y_test))"
   ]
  },
  {
   "cell_type": "markdown",
   "id": "6a57297e",
   "metadata": {},
   "source": [
    "# Model Selection\n",
    "\n",
    "\n",
    "check whether model has overfitting or underfitting problem"
   ]
  },
  {
   "cell_type": "code",
   "execution_count": 114,
   "id": "22f6e2b4",
   "metadata": {},
   "outputs": [
    {
     "name": "stdout",
     "output_type": "stream",
     "text": [
      "Train R2 0.8375701833915786\n"
     ]
    }
   ],
   "source": [
    "train_predictions=model.predict(x_train)\n",
    "print(\"Train R2\",model.score(x_train,y_train))"
   ]
  },
  {
   "cell_type": "markdown",
   "id": "545422b0",
   "metadata": {},
   "source": [
    "# Check whether Test Accuracy = Cross validation Score"
   ]
  },
  {
   "cell_type": "code",
   "execution_count": 115,
   "id": "71dd4f09",
   "metadata": {},
   "outputs": [
    {
     "name": "stdout",
     "output_type": "stream",
     "text": [
      "Cross validation Score: 0.8108015220863887\n"
     ]
    }
   ],
   "source": [
    "from sklearn.model_selection import cross_val_score\n",
    "print(\"Cross validation Score:\", cross_val_score(model,x,y, cv=5).mean())\n"
   ]
  },
  {
   "cell_type": "markdown",
   "id": "af9861ea",
   "metadata": {},
   "source": [
    "# Check for Assumptions\n"
   ]
  },
  {
   "cell_type": "markdown",
   "id": "edf44966",
   "metadata": {},
   "source": [
    "# 1.Linearity of Errors"
   ]
  },
  {
   "cell_type": "code",
   "execution_count": 116,
   "id": "36661217",
   "metadata": {},
   "outputs": [
    {
     "data": {
      "text/plain": [
       "461    0.040598\n",
       "79     0.021568\n",
       "187    0.007303\n",
       "265    0.027741\n",
       "251    0.012928\n",
       "         ...   \n",
       "317    0.023331\n",
       "143    0.002334\n",
       "474    0.003631\n",
       "318    0.030706\n",
       "132   -0.034700\n",
       "Name: Chance of Admit , Length: 100, dtype: float64"
      ]
     },
     "execution_count": 116,
     "metadata": {},
     "output_type": "execute_result"
    }
   ],
   "source": [
    "test_res = y_train - train_predictions\n",
    "test_res"
   ]
  },
  {
   "cell_type": "code",
   "execution_count": 117,
   "id": "9d93fa39",
   "metadata": {},
   "outputs": [
    {
     "data": {
      "image/png": "[encoded data removed]",
      "text/plain": [
       "<Figure size 640x480 with 1 Axes>"
      ]
     },
     "metadata": {},
     "output_type": "display_data"
    }
   ],
   "source": [
    "plt.scatter(y_train,test_res)\n",
    "plt.xlabel(\"observed_values\")\n",
    "plt.ylabel(\"fitted_values\")\n",
    "plt.show()"
   ]
  },
  {
   "cell_type": "markdown",
   "id": "8d06a3bb",
   "metadata": {},
   "source": [
    "# 2.Normality of Errors"
   ]
  },
  {
   "cell_type": "code",
   "execution_count": 118,
   "id": "5946ddb5",
   "metadata": {},
   "outputs": [
    {
     "data": {
      "image/png": "[encoded data removed]",
      "text/plain": [
       "<Figure size 500x500 with 1 Axes>"
      ]
     },
     "metadata": {},
     "output_type": "display_data"
    }
   ],
   "source": [
    "sns.displot(test_res,bins=15,kde=True)\n",
    "plt.show()"
   ]
  },
  {
   "cell_type": "markdown",
   "id": "ec453524",
   "metadata": {},
   "source": [
    "# 3.Equal Variance of Errors (Homoscadesicity)"
   ]
  },
  {
   "cell_type": "code",
   "execution_count": 119,
   "id": "f29bf11c",
   "metadata": {},
   "outputs": [
    {
     "data": {
      "image/png": "[encoded data removed]",
      "text/plain": [
       "<Figure size 640x480 with 1 Axes>"
      ]
     },
     "metadata": {},
     "output_type": "display_data"
    }
   ],
   "source": [
    "plt.scatter(train_predictions,test_res,c='r')\n",
    "plt.axhline(y=0,color='blue')\n",
    "plt.xlabel('fitted_values')\n",
    "plt.ylabel('residuals')\n",
    "plt.show()"
   ]
  },
  {
   "cell_type": "markdown",
   "id": "97beb99e",
   "metadata": {},
   "source": [
    "# 4.Variables Significance\n",
    "Hypothesis Testing for variables\n",
    "\n",
    "Null hypothesis: There is no relationship between input variable and output variable.\n",
    "\n",
    "Alternative hypothesis: There is a relationship between input variable and output variable"
   ]
  },
  {
   "cell_type": "code",
   "execution_count": 120,
   "id": "604cc7d2",
   "metadata": {},
   "outputs": [
    {
     "data": {
      "text/html": [
       "<table class=\"simpletable\">\n",
       "<caption>OLS Regression Results</caption>\n",
       "<tr>\n",
       "  <th>Dep. Variable:</th>            <td>y</td>        <th>  R-squared:         </th> <td>   0.822</td> \n",
       "</tr>\n",
       "<tr>\n",
       "  <th>Model:</th>                   <td>OLS</td>       <th>  Adj. R-squared:    </th> <td>   0.819</td> \n",
       "</tr>\n",
       "<tr>\n",
       "  <th>Method:</th>             <td>Least Squares</td>  <th>  F-statistic:       </th> <td>   324.4</td> \n",
       "</tr>\n",
       "<tr>\n",
       "  <th>Date:</th>             <td>Tue, 22 Oct 2024</td> <th>  Prob (F-statistic):</th> <td>8.21e-180</td>\n",
       "</tr>\n",
       "<tr>\n",
       "  <th>Time:</th>                 <td>16:19:28</td>     <th>  Log-Likelihood:    </th> <td>  701.38</td> \n",
       "</tr>\n",
       "<tr>\n",
       "  <th>No. Observations:</th>      <td>   500</td>      <th>  AIC:               </th> <td>  -1387.</td> \n",
       "</tr>\n",
       "<tr>\n",
       "  <th>Df Residuals:</th>          <td>   492</td>      <th>  BIC:               </th> <td>  -1353.</td> \n",
       "</tr>\n",
       "<tr>\n",
       "  <th>Df Model:</th>              <td>     7</td>      <th>                     </th>     <td> </td>    \n",
       "</tr>\n",
       "<tr>\n",
       "  <th>Covariance Type:</th>      <td>nonrobust</td>    <th>                     </th>     <td> </td>    \n",
       "</tr>\n",
       "</table>\n",
       "<table class=\"simpletable\">\n",
       "<tr>\n",
       "      <td></td>         <th>coef</th>     <th>std err</th>      <th>t</th>      <th>P>|t|</th>  <th>[0.025</th>    <th>0.975]</th>  \n",
       "</tr>\n",
       "<tr>\n",
       "  <th>Intercept</th> <td>   -1.2757</td> <td>    0.104</td> <td>  -12.232</td> <td> 0.000</td> <td>   -1.481</td> <td>   -1.071</td>\n",
       "</tr>\n",
       "<tr>\n",
       "  <th>x[0]</th>      <td>    0.0019</td> <td>    0.001</td> <td>    3.700</td> <td> 0.000</td> <td>    0.001</td> <td>    0.003</td>\n",
       "</tr>\n",
       "<tr>\n",
       "  <th>x[1]</th>      <td>    0.0028</td> <td>    0.001</td> <td>    3.184</td> <td> 0.002</td> <td>    0.001</td> <td>    0.004</td>\n",
       "</tr>\n",
       "<tr>\n",
       "  <th>x[2]</th>      <td>    0.0059</td> <td>    0.004</td> <td>    1.563</td> <td> 0.119</td> <td>   -0.002</td> <td>    0.013</td>\n",
       "</tr>\n",
       "<tr>\n",
       "  <th>x[3]</th>      <td>    0.0016</td> <td>    0.005</td> <td>    0.348</td> <td> 0.728</td> <td>   -0.007</td> <td>    0.011</td>\n",
       "</tr>\n",
       "<tr>\n",
       "  <th>x[4]</th>      <td>    0.0169</td> <td>    0.004</td> <td>    4.074</td> <td> 0.000</td> <td>    0.009</td> <td>    0.025</td>\n",
       "</tr>\n",
       "<tr>\n",
       "  <th>x[5]</th>      <td>    0.1184</td> <td>    0.010</td> <td>   12.198</td> <td> 0.000</td> <td>    0.099</td> <td>    0.137</td>\n",
       "</tr>\n",
       "<tr>\n",
       "  <th>x[6]</th>      <td>    0.0243</td> <td>    0.007</td> <td>    3.680</td> <td> 0.000</td> <td>    0.011</td> <td>    0.037</td>\n",
       "</tr>\n",
       "</table>\n",
       "<table class=\"simpletable\">\n",
       "<tr>\n",
       "  <th>Omnibus:</th>       <td>112.770</td> <th>  Durbin-Watson:     </th> <td>   0.796</td>\n",
       "</tr>\n",
       "<tr>\n",
       "  <th>Prob(Omnibus):</th> <td> 0.000</td>  <th>  Jarque-Bera (JB):  </th> <td> 262.104</td>\n",
       "</tr>\n",
       "<tr>\n",
       "  <th>Skew:</th>          <td>-1.160</td>  <th>  Prob(JB):          </th> <td>1.22e-57</td>\n",
       "</tr>\n",
       "<tr>\n",
       "  <th>Kurtosis:</th>      <td> 5.684</td>  <th>  Cond. No.          </th> <td>1.30e+04</td>\n",
       "</tr>\n",
       "</table><br/><br/>Notes:<br/>[1] Standard Errors assume that the covariance matrix of the errors is correctly specified.<br/>[2] The condition number is large, 1.3e+04. This might indicate that there are<br/>strong multicollinearity or other numerical problems."
      ],
      "text/plain": [
       "<class 'statsmodels.iolib.summary.Summary'>\n",
       "\"\"\"\n",
       "                            OLS Regression Results                            \n",
       "==============================================================================\n",
       "Dep. Variable:                      y   R-squared:                       0.822\n",
       "Model:                            OLS   Adj. R-squared:                  0.819\n",
       "Method:                 Least Squares   F-statistic:                     324.4\n",
       "Date:                Tue, 22 Oct 2024   Prob (F-statistic):          8.21e-180\n",
       "Time:                        16:19:28   Log-Likelihood:                 701.38\n",
       "No. Observations:                 500   AIC:                            -1387.\n",
       "Df Residuals:                     492   BIC:                            -1353.\n",
       "Df Model:                           7                                         \n",
       "Covariance Type:            nonrobust                                         \n",
       "==============================================================================\n",
       "                 coef    std err          t      P>|t|      [0.025      0.975]\n",
       "------------------------------------------------------------------------------\n",
       "Intercept     -1.2757      0.104    -12.232      0.000      -1.481      -1.071\n",
       "x[0]           0.0019      0.001      3.700      0.000       0.001       0.003\n",
       "x[1]           0.0028      0.001      3.184      0.002       0.001       0.004\n",
       "x[2]           0.0059      0.004      1.563      0.119      -0.002       0.013\n",
       "x[3]           0.0016      0.005      0.348      0.728      -0.007       0.011\n",
       "x[4]           0.0169      0.004      4.074      0.000       0.009       0.025\n",
       "x[5]           0.1184      0.010     12.198      0.000       0.099       0.137\n",
       "x[6]           0.0243      0.007      3.680      0.000       0.011       0.037\n",
       "==============================================================================\n",
       "Omnibus:                      112.770   Durbin-Watson:                   0.796\n",
       "Prob(Omnibus):                  0.000   Jarque-Bera (JB):              262.104\n",
       "Skew:                          -1.160   Prob(JB):                     1.22e-57\n",
       "Kurtosis:                       5.684   Cond. No.                     1.30e+04\n",
       "==============================================================================\n",
       "\n",
       "Notes:\n",
       "[1] Standard Errors assume that the covariance matrix of the errors is correctly specified.\n",
       "[2] The condition number is large, 1.3e+04. This might indicate that there are\n",
       "strong multicollinearity or other numerical problems.\n",
       "\"\"\""
      ]
     },
     "execution_count": 120,
     "metadata": {},
     "output_type": "execute_result"
    }
   ],
   "source": [
    "import statsmodels.formula.api as smf\n",
    "model1=smf.ols(\"y~x\",data=df).fit()\n",
    "model1.summary()"
   ]
  },
  {
   "cell_type": "markdown",
   "id": "aa58e30e",
   "metadata": {},
   "source": [
    "# Added variable plot(AV Plot)\n",
    "\n",
    "\n",
    "Partial difference insted of normal differentiation"
   ]
  },
  {
   "cell_type": "code",
   "execution_count": 121,
   "id": "9ceee0a3",
   "metadata": {},
   "outputs": [
    {
     "name": "stdout",
     "output_type": "stream",
     "text": [
      "eval_env: 1\n",
      "eval_env: 1\n",
      "eval_env: 1\n",
      "eval_env: 1\n",
      "eval_env: 1\n",
      "eval_env: 1\n",
      "eval_env: 1\n",
      "eval_env: 1\n"
     ]
    },
    {
     "data": {
      "image/png": "[encoded data removed]",
      "text/plain": [
       "<Figure size 640x480 with 8 Axes>"
      ]
     },
     "execution_count": 121,
     "metadata": {},
     "output_type": "execute_result"
    },
    {
     "data": {
      "image/png": "[encoded data removed]",
      "text/plain": [
       "<Figure size 640x480 with 8 Axes>"
      ]
     },
     "metadata": {},
     "output_type": "display_data"
    }
   ],
   "source": [
    "import statsmodels.api as sm\n",
    "sm.graphics.plot_partregress_grid(model1)"
   ]
  },
  {
   "cell_type": "markdown",
   "id": "64931465",
   "metadata": {},
   "source": [
    "# Remove S0P because p-value SOP as 0.7 more then 0.5 we have to do drop that column"
   ]
  },
  {
   "cell_type": "code",
   "execution_count": 122,
   "id": "56261f2d",
   "metadata": {},
   "outputs": [
    {
     "data": {
      "text/html": [
       "<div>\n",
       "<style scoped>\n",
       "    .dataframe tbody tr th:only-of-type {\n",
       "        vertical-align: middle;\n",
       "    }\n",
       "\n",
       "    .dataframe tbody tr th {\n",
       "        vertical-align: top;\n",
       "    }\n",
       "\n",
       "    .dataframe thead th {\n",
       "        text-align: right;\n",
       "    }\n",
       "</style>\n",
       "<table border=\"1\" class=\"dataframe\">\n",
       "  <thead>\n",
       "    <tr style=\"text-align: right;\">\n",
       "      <th></th>\n",
       "      <th>Unnamed: 0</th>\n",
       "      <th>Serial No.</th>\n",
       "      <th>GRE Score</th>\n",
       "      <th>TOEFL Score</th>\n",
       "      <th>University Rating</th>\n",
       "      <th>LOR</th>\n",
       "      <th>CGPA</th>\n",
       "      <th>Research</th>\n",
       "      <th>Chance of Admit</th>\n",
       "    </tr>\n",
       "  </thead>\n",
       "  <tbody>\n",
       "    <tr>\n",
       "      <th>0</th>\n",
       "      <td>0</td>\n",
       "      <td>1</td>\n",
       "      <td>337</td>\n",
       "      <td>118</td>\n",
       "      <td>4</td>\n",
       "      <td>4.5</td>\n",
       "      <td>9.65</td>\n",
       "      <td>1</td>\n",
       "      <td>0.92</td>\n",
       "    </tr>\n",
       "    <tr>\n",
       "      <th>1</th>\n",
       "      <td>1</td>\n",
       "      <td>2</td>\n",
       "      <td>324</td>\n",
       "      <td>107</td>\n",
       "      <td>4</td>\n",
       "      <td>4.5</td>\n",
       "      <td>8.87</td>\n",
       "      <td>1</td>\n",
       "      <td>0.76</td>\n",
       "    </tr>\n",
       "    <tr>\n",
       "      <th>2</th>\n",
       "      <td>2</td>\n",
       "      <td>3</td>\n",
       "      <td>316</td>\n",
       "      <td>104</td>\n",
       "      <td>3</td>\n",
       "      <td>3.5</td>\n",
       "      <td>8.00</td>\n",
       "      <td>1</td>\n",
       "      <td>0.72</td>\n",
       "    </tr>\n",
       "    <tr>\n",
       "      <th>3</th>\n",
       "      <td>3</td>\n",
       "      <td>4</td>\n",
       "      <td>322</td>\n",
       "      <td>110</td>\n",
       "      <td>3</td>\n",
       "      <td>2.5</td>\n",
       "      <td>8.67</td>\n",
       "      <td>1</td>\n",
       "      <td>0.80</td>\n",
       "    </tr>\n",
       "    <tr>\n",
       "      <th>4</th>\n",
       "      <td>4</td>\n",
       "      <td>5</td>\n",
       "      <td>314</td>\n",
       "      <td>103</td>\n",
       "      <td>2</td>\n",
       "      <td>3.0</td>\n",
       "      <td>8.21</td>\n",
       "      <td>0</td>\n",
       "      <td>0.65</td>\n",
       "    </tr>\n",
       "    <tr>\n",
       "      <th>...</th>\n",
       "      <td>...</td>\n",
       "      <td>...</td>\n",
       "      <td>...</td>\n",
       "      <td>...</td>\n",
       "      <td>...</td>\n",
       "      <td>...</td>\n",
       "      <td>...</td>\n",
       "      <td>...</td>\n",
       "      <td>...</td>\n",
       "    </tr>\n",
       "    <tr>\n",
       "      <th>495</th>\n",
       "      <td>495</td>\n",
       "      <td>496</td>\n",
       "      <td>332</td>\n",
       "      <td>108</td>\n",
       "      <td>5</td>\n",
       "      <td>4.0</td>\n",
       "      <td>9.02</td>\n",
       "      <td>1</td>\n",
       "      <td>0.87</td>\n",
       "    </tr>\n",
       "    <tr>\n",
       "      <th>496</th>\n",
       "      <td>496</td>\n",
       "      <td>497</td>\n",
       "      <td>337</td>\n",
       "      <td>117</td>\n",
       "      <td>5</td>\n",
       "      <td>5.0</td>\n",
       "      <td>9.87</td>\n",
       "      <td>1</td>\n",
       "      <td>0.96</td>\n",
       "    </tr>\n",
       "    <tr>\n",
       "      <th>497</th>\n",
       "      <td>497</td>\n",
       "      <td>498</td>\n",
       "      <td>330</td>\n",
       "      <td>120</td>\n",
       "      <td>5</td>\n",
       "      <td>5.0</td>\n",
       "      <td>9.56</td>\n",
       "      <td>1</td>\n",
       "      <td>0.93</td>\n",
       "    </tr>\n",
       "    <tr>\n",
       "      <th>498</th>\n",
       "      <td>498</td>\n",
       "      <td>499</td>\n",
       "      <td>312</td>\n",
       "      <td>103</td>\n",
       "      <td>4</td>\n",
       "      <td>5.0</td>\n",
       "      <td>8.43</td>\n",
       "      <td>0</td>\n",
       "      <td>0.73</td>\n",
       "    </tr>\n",
       "    <tr>\n",
       "      <th>499</th>\n",
       "      <td>499</td>\n",
       "      <td>500</td>\n",
       "      <td>327</td>\n",
       "      <td>113</td>\n",
       "      <td>4</td>\n",
       "      <td>4.5</td>\n",
       "      <td>9.04</td>\n",
       "      <td>0</td>\n",
       "      <td>0.84</td>\n",
       "    </tr>\n",
       "  </tbody>\n",
       "</table>\n",
       "<p>500 rows × 9 columns</p>\n",
       "</div>"
      ],
      "text/plain": [
       "     Unnamed: 0  Serial No.  GRE Score  TOEFL Score  University Rating  LOR   \\\n",
       "0             0           1        337          118                  4   4.5   \n",
       "1             1           2        324          107                  4   4.5   \n",
       "2             2           3        316          104                  3   3.5   \n",
       "3             3           4        322          110                  3   2.5   \n",
       "4             4           5        314          103                  2   3.0   \n",
       "..          ...         ...        ...          ...                ...   ...   \n",
       "495         495         496        332          108                  5   4.0   \n",
       "496         496         497        337          117                  5   5.0   \n",
       "497         497         498        330          120                  5   5.0   \n",
       "498         498         499        312          103                  4   5.0   \n",
       "499         499         500        327          113                  4   4.5   \n",
       "\n",
       "     CGPA  Research  Chance of Admit   \n",
       "0    9.65         1              0.92  \n",
       "1    8.87         1              0.76  \n",
       "2    8.00         1              0.72  \n",
       "3    8.67         1              0.80  \n",
       "4    8.21         0              0.65  \n",
       "..    ...       ...               ...  \n",
       "495  9.02         1              0.87  \n",
       "496  9.87         1              0.96  \n",
       "497  9.56         1              0.93  \n",
       "498  8.43         0              0.73  \n",
       "499  9.04         0              0.84  \n",
       "\n",
       "[500 rows x 9 columns]"
      ]
     },
     "execution_count": 122,
     "metadata": {},
     "output_type": "execute_result"
    }
   ],
   "source": [
    "df=df.drop(columns=[\"SOP\"])\n",
    "df"
   ]
  },
  {
   "cell_type": "code",
   "execution_count": 123,
   "id": "5cd13862",
   "metadata": {},
   "outputs": [
    {
     "data": {
      "text/plain": [
       "Index(['Unnamed: 0', 'Serial No.', 'GRE Score', 'TOEFL Score',\n",
       "       'University Rating', 'LOR ', 'CGPA', 'Research', 'Chance of Admit '],\n",
       "      dtype='object')"
      ]
     },
     "execution_count": 123,
     "metadata": {},
     "output_type": "execute_result"
    }
   ],
   "source": [
    "df.columns"
   ]
  },
  {
   "cell_type": "markdown",
   "id": "fcdbd14b",
   "metadata": {},
   "source": [
    "# Final model including"
   ]
  },
  {
   "cell_type": "code",
   "execution_count": 124,
   "id": "e07f207f",
   "metadata": {},
   "outputs": [
    {
     "name": "stdout",
     "output_type": "stream",
     "text": [
      "coefficient [0.00191578 0.00319632 0.00524222 0.01588621 0.11927228 0.02528497]\n",
      "intercept -1.3367969836294382\n",
      "Train R2 0.8292743579706157\n",
      "Test R2 0.787330602020721\n",
      "Cross validation Score: 0.8137472528076823\n"
     ]
    }
   ],
   "source": [
    "x=df[['GRE Score', 'TOEFL Score', 'University Rating', 'LOR ', 'CGPA','Research']]\n",
    "y=df['Chance of Admit ']\n",
    "\n",
    "from  sklearn.model_selection import train_test_split\n",
    "x_train,x_test,y_train,y_test=train_test_split(x,y,train_size=0.8,random_state=8)\n",
    "\n",
    "from sklearn.linear_model import LinearRegression\n",
    "\n",
    "model=LinearRegression()\n",
    "model.fit(x_train,y_train)\n",
    "print(\"coefficient\",model.coef_)\n",
    "print(\"intercept\",model.intercept_)\n",
    "\n",
    "train_predictions=model.predict(x_train)\n",
    "print(\"Train R2\",model.score(x_train,y_train))\n",
    "print(\"Test R2\",model.score(x_test,y_test))\n",
    "\n",
    "print(\"Cross validation Score:\", cross_val_score(model,x,y, cv=5).mean())\n",
    "\n"
   ]
  },
  {
   "cell_type": "markdown",
   "id": "496821e2",
   "metadata": {},
   "source": [
    "# Variance Inflation Factor(VIF)\n",
    "\n",
    "VIF measures the ratio between the variance for a given regression coefficient with only that variable in the model versus the variance for a given regression coefficient with all variables in the model."
   ]
  },
  {
   "cell_type": "code",
   "execution_count": 125,
   "id": "3ff0b46c",
   "metadata": {},
   "outputs": [
    {
     "data": {
      "text/html": [
       "<div>\n",
       "<style scoped>\n",
       "    .dataframe tbody tr th:only-of-type {\n",
       "        vertical-align: middle;\n",
       "    }\n",
       "\n",
       "    .dataframe tbody tr th {\n",
       "        vertical-align: top;\n",
       "    }\n",
       "\n",
       "    .dataframe thead th {\n",
       "        text-align: right;\n",
       "    }\n",
       "</style>\n",
       "<table border=\"1\" class=\"dataframe\">\n",
       "  <thead>\n",
       "    <tr style=\"text-align: right;\">\n",
       "      <th></th>\n",
       "      <th>GRE Score</th>\n",
       "      <th>TOEFL Score</th>\n",
       "      <th>University Rating</th>\n",
       "      <th>LOR</th>\n",
       "      <th>CGPA</th>\n",
       "      <th>Research</th>\n",
       "    </tr>\n",
       "  </thead>\n",
       "  <tbody>\n",
       "    <tr>\n",
       "      <th>GRE Score</th>\n",
       "      <td>1.000000</td>\n",
       "      <td>0.827200</td>\n",
       "      <td>0.635376</td>\n",
       "      <td>0.524679</td>\n",
       "      <td>0.825878</td>\n",
       "      <td>0.563398</td>\n",
       "    </tr>\n",
       "    <tr>\n",
       "      <th>TOEFL Score</th>\n",
       "      <td>0.827200</td>\n",
       "      <td>1.000000</td>\n",
       "      <td>0.649799</td>\n",
       "      <td>0.541563</td>\n",
       "      <td>0.810574</td>\n",
       "      <td>0.467012</td>\n",
       "    </tr>\n",
       "    <tr>\n",
       "      <th>University Rating</th>\n",
       "      <td>0.635376</td>\n",
       "      <td>0.649799</td>\n",
       "      <td>1.000000</td>\n",
       "      <td>0.608651</td>\n",
       "      <td>0.705254</td>\n",
       "      <td>0.427047</td>\n",
       "    </tr>\n",
       "    <tr>\n",
       "      <th>LOR</th>\n",
       "      <td>0.524679</td>\n",
       "      <td>0.541563</td>\n",
       "      <td>0.608651</td>\n",
       "      <td>1.000000</td>\n",
       "      <td>0.637469</td>\n",
       "      <td>0.372526</td>\n",
       "    </tr>\n",
       "    <tr>\n",
       "      <th>CGPA</th>\n",
       "      <td>0.825878</td>\n",
       "      <td>0.810574</td>\n",
       "      <td>0.705254</td>\n",
       "      <td>0.637469</td>\n",
       "      <td>1.000000</td>\n",
       "      <td>0.501311</td>\n",
       "    </tr>\n",
       "    <tr>\n",
       "      <th>Research</th>\n",
       "      <td>0.563398</td>\n",
       "      <td>0.467012</td>\n",
       "      <td>0.427047</td>\n",
       "      <td>0.372526</td>\n",
       "      <td>0.501311</td>\n",
       "      <td>1.000000</td>\n",
       "    </tr>\n",
       "  </tbody>\n",
       "</table>\n",
       "</div>"
      ],
      "text/plain": [
       "                   GRE Score  TOEFL Score  University Rating      LOR   \\\n",
       "GRE Score           1.000000     0.827200           0.635376  0.524679   \n",
       "TOEFL Score         0.827200     1.000000           0.649799  0.541563   \n",
       "University Rating   0.635376     0.649799           1.000000  0.608651   \n",
       "LOR                 0.524679     0.541563           0.608651  1.000000   \n",
       "CGPA                0.825878     0.810574           0.705254  0.637469   \n",
       "Research            0.563398     0.467012           0.427047  0.372526   \n",
       "\n",
       "                       CGPA  Research  \n",
       "GRE Score          0.825878  0.563398  \n",
       "TOEFL Score        0.810574  0.467012  \n",
       "University Rating  0.705254  0.427047  \n",
       "LOR                0.637469  0.372526  \n",
       "CGPA               1.000000  0.501311  \n",
       "Research           0.501311  1.000000  "
      ]
     },
     "execution_count": 125,
     "metadata": {},
     "output_type": "execute_result"
    }
   ],
   "source": [
    "df[['GRE Score', 'TOEFL Score', 'University Rating', 'LOR ', 'CGPA','Research']].corr()"
   ]
  },
  {
   "cell_type": "code",
   "execution_count": 126,
   "id": "acf8828c",
   "metadata": {},
   "outputs": [
    {
     "ename": "SyntaxError",
     "evalue": "invalid syntax (1761962957.py, line 3)",
     "output_type": "error",
     "traceback": [
      "\u001b[1;36m  File \u001b[1;32m\"C:\\Users\\Sudheerkumar Peesa\\AppData\\Local\\Temp\\ipykernel_10424\\1761962957.py\"\u001b[1;36m, line \u001b[1;32m3\u001b[0m\n\u001b[1;33m    rsq_GRE Score = smf.ols('GRE Score~TOEFL Score+University Rating+SOP+CGPA+Research',data=df).fit().rsquared\u001b[0m\n\u001b[1;37m            ^\u001b[0m\n\u001b[1;31mSyntaxError\u001b[0m\u001b[1;31m:\u001b[0m invalid syntax\n"
     ]
    }
   ],
   "source": [
    "# calculating VIF's values of independent variables\n",
    "\n",
    "rsq_GRE Score = smf.ols('GRE Score~TOEFL Score+University Rating+SOP+CGPA+Research',data=df).fit().rsquared\n",
    "\n",
    "vif_GRE Score = 1/(1-rsq_GRE Score)\n",
    "\n",
    "rsq_TOEFL Score = smf.ols(\"TOEFL Score~GRE Score + University Rating + SOP + CGPA+ Research\",data=df).fit().rsquared\n",
    "vif_TOEFL Score= 1/(1-rsq_TOEFL Score)\n",
    "\n",
    "rsq_University Rating = smf.ols(\"University Rating~GRE Score+ TOEFL Score + SOP+ CGPA+ Research\",data=df).fit().rsquared\n",
    "vif_University Rating = 1/(1-rsq_University Rating)\n",
    "\n",
    "rsq_SOP = smf.ols(\"SOP~ GRE Score+ TOEFL Score+University Rating + CGPA+ Research\",data=df).fit().rsquared\n",
    "vif_SOP = 1/(1-rsq_SOP)\n",
    "\n",
    "rsq_LOR = smf.ols(\"LOR~ GRE Score+ TOEFL Score+University Rating +SOP+ CGPA+ Research\",data=df).fit().rsquared\n",
    "vif_LOR= 1/(1-rsq_LOR)\n",
    "\n",
    "rsq_CGPA = smf.ols(\"CGPA~ GRE Score+TOEFL Score+University Rating + SOP + Research\",data=df).fit().rsquared\n",
    "vif_CGPA= 1/(1-rsq_CGPA)\n",
    "\n",
    "rsq_Research = smf.ols(\"Research~ GRE Score+TOEFL Score+University Rating + SOP + CGPA\",data=df).fit().rsquared\n",
    "vif_Research = 1/(1-rsq_Research)\n",
    "\n",
    "# Staring vif values in a data frame\n",
    "\n",
    "d1={'Variables':['GRE Score', 'TOEFL Score', 'University Rating', 'SOP',\n",
    "    'CGPA', 'Research'],'VIF':[vif_GRE Score,vif_TOEFL Score,vif_University Rating,vif_SOP,vif_CGPA,vif_Research]}\n",
    "Vif_frame = pd.DataFrame(d1)\n",
    "Vif_frame"
   ]
  },
  {
   "cell_type": "code",
   "execution_count": 127,
   "id": "56c1d946",
   "metadata": {},
   "outputs": [],
   "source": [
    "# vif not coming the output i will do vif again "
   ]
  },
  {
   "cell_type": "code",
   "execution_count": null,
   "id": "9dad88ec",
   "metadata": {},
   "outputs": [],
   "source": []
  },
  {
   "cell_type": "code",
   "execution_count": null,
   "id": "9109bf31",
   "metadata": {},
   "outputs": [],
   "source": []
  },
  {
   "cell_type": "code",
   "execution_count": null,
   "id": "229656b9",
   "metadata": {},
   "outputs": [],
   "source": []
  },
  {
   "cell_type": "code",
   "execution_count": null,
   "id": "76a547e0",
   "metadata": {},
   "outputs": [],
   "source": []
  },
  {
   "cell_type": "code",
   "execution_count": null,
   "id": "6cd4a332",
   "metadata": {},
   "outputs": [],
   "source": []
  },
  {
   "cell_type": "code",
   "execution_count": null,
   "id": "701ac80e",
   "metadata": {},
   "outputs": [],
   "source": []
  },
  {
   "cell_type": "code",
   "execution_count": null,
   "id": "53f71bb4",
   "metadata": {},
   "outputs": [],
   "source": []
  },
  {
   "cell_type": "code",
   "execution_count": null,
   "id": "19a5a82a",
   "metadata": {},
   "outputs": [],
   "source": []
  },
  {
   "cell_type": "code",
   "execution_count": null,
   "id": "399cd987",
   "metadata": {},
   "outputs": [],
   "source": []
  },
  {
   "cell_type": "code",
   "execution_count": null,
   "id": "846f0dd8",
   "metadata": {},
   "outputs": [],
   "source": []
  },
  {
   "cell_type": "code",
   "execution_count": null,
   "id": "085826bb",
   "metadata": {},
   "outputs": [],
   "source": []
  },
  {
   "cell_type": "code",
   "execution_count": null,
   "id": "054bcddf",
   "metadata": {},
   "outputs": [],
   "source": []
  },
  {
   "cell_type": "code",
   "execution_count": null,
   "id": "4b09017b",
   "metadata": {},
   "outputs": [],
   "source": []
  },
  {
   "cell_type": "code",
   "execution_count": null,
   "id": "3f3a2e7e",
   "metadata": {},
   "outputs": [],
   "source": []
  },
  {
   "cell_type": "code",
   "execution_count": null,
   "id": "c144465c",
   "metadata": {},
   "outputs": [],
   "source": []
  }
 ],
 "metadata": {
  "kernelspec": {
   "display_name": "Python 3 (ipykernel)",
   "language": "python",
   "name": "python3"
  },
  "language_info": {
   "codemirror_mode": {
    "name": "ipython",
    "version": 3
   },
   "file_extension": ".py",
   "mimetype": "text/x-python",
   "name": "python",
   "nbconvert_exporter": "python",
   "pygments_lexer": "ipython3",
   "version": "3.9.13"
  }
 },
 "nbformat": 4,
 "nbformat_minor": 5
}
